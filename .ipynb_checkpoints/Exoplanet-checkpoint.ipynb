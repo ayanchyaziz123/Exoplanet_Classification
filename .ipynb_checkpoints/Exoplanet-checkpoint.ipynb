{
  "nbformat": 4,
  "nbformat_minor": 0,
  "metadata": {
    "colab": {
      "provenance": []
    },
    "kernelspec": {
      "name": "python3",
      "display_name": "Python 3"
    },
    "language_info": {
      "name": "python"
    }
  },
  "cells": [
    {
      "cell_type": "code",
      "execution_count": 3,
      "metadata": {
        "id": "twFUtfSbWJAF"
      },
      "outputs": [],
      "source": [
        "import pandas as pd\n",
        "import numpy as np\n",
        "import matplotlib.pyplot as plt\n",
        "import seaborn as sns\n",
        "from sklearn.model_selection import train_test_split\n",
        "from sklearn.preprocessing import StandardScaler, LabelEncoder\n",
        "from sklearn.ensemble import RandomForestClassifier\n",
        "from sklearn.linear_model import LogisticRegression\n",
        "from xgboost import XGBClassifier\n",
        "from sklearn.metrics import accuracy_score, classification_report, confusion_matrix\n",
        "import tensorflow as tf\n",
        "from tensorflow.keras.models import Sequential\n",
        "from tensorflow.keras.layers import Dense, Dropout"
      ]
    },
    {
      "cell_type": "code",
      "source": [
        "# Load Dataset\n",
        "data_path = 'sample_data/all_exoplanets_2021.csv'  # Update path if necessary\n",
        "df = pd.read_csv(data_path)\n",
        "df.head(4)"
      ],
      "metadata": {
        "colab": {
          "base_uri": "https://localhost:8080/",
          "height": 380
        },
        "id": "re-tbebmW-3N",
        "outputId": "8dfd8b02-6fcd-45f9-843a-aedd0fdcc377"
      },
      "execution_count": 4,
      "outputs": [
        {
          "output_type": "execute_result",
          "data": {
            "text/plain": [
              "   No. Planet Name Planet Host  Num Stars  Num Planets Discovery Method  \\\n",
              "0    1    11 Com b      11 Com          2            1  Radial Velocity   \n",
              "1    2    11 UMi b      11 UMi          1            1  Radial Velocity   \n",
              "2    3    14 And b      14 And          1            1  Radial Velocity   \n",
              "3    4    14 Her b      14 Her          1            2  Radial Velocity   \n",
              "\n",
              "   Discovery Year                      Discovery Facility  \\\n",
              "0            2007                        Xinglong Station   \n",
              "1            2009  Thueringer Landessternwarte Tautenburg   \n",
              "2            2008       Okayama Astrophysical Observatory   \n",
              "3            2002                  W. M. Keck Observatory   \n",
              "\n",
              "   Orbital Period Days  Orbit Semi-Major Axis  ...  Equilibrium Temperature  \\\n",
              "0            326.03000                   1.29  ...                      NaN   \n",
              "1            516.21997                   1.53  ...                      NaN   \n",
              "2            185.84000                   0.83  ...                      NaN   \n",
              "3           1773.40002                   2.93  ...                      NaN   \n",
              "\n",
              "   Spectral Type  Stellar Effective Temperature  Stellar Radius Stellar Mass  \\\n",
              "0         G8 III                         4742.0           19.00         2.70   \n",
              "1            NaN                         4213.0           29.79         2.78   \n",
              "2         K0 III                         4813.0           11.00         2.20   \n",
              "3            NaN                         5338.0            0.93         0.90   \n",
              "\n",
              "   Stellar Metallicity  Stellar Metallicity Ratio  Stellar Surface Gravity  \\\n",
              "0                -0.35                     [Fe/H]                     2.31   \n",
              "1                -0.02                     [Fe/H]                     1.93   \n",
              "2                -0.24                     [Fe/H]                     2.63   \n",
              "3                 0.41                     [Fe/H]                     4.45   \n",
              "\n",
              "   Distance Gaia Magnitude  \n",
              "0   93.1846        4.44038  \n",
              "1  125.3210        4.56216  \n",
              "2   75.4392        4.91781  \n",
              "3   17.9323        6.38300  \n",
              "\n",
              "[4 rows x 23 columns]"
            ],
            "text/html": [
              "\n",
              "  <div id=\"df-b31a1f5c-fcfc-44c3-80a1-cc8824d5dd51\" class=\"colab-df-container\">\n",
              "    <div>\n",
              "<style scoped>\n",
              "    .dataframe tbody tr th:only-of-type {\n",
              "        vertical-align: middle;\n",
              "    }\n",
              "\n",
              "    .dataframe tbody tr th {\n",
              "        vertical-align: top;\n",
              "    }\n",
              "\n",
              "    .dataframe thead th {\n",
              "        text-align: right;\n",
              "    }\n",
              "</style>\n",
              "<table border=\"1\" class=\"dataframe\">\n",
              "  <thead>\n",
              "    <tr style=\"text-align: right;\">\n",
              "      <th></th>\n",
              "      <th>No.</th>\n",
              "      <th>Planet Name</th>\n",
              "      <th>Planet Host</th>\n",
              "      <th>Num Stars</th>\n",
              "      <th>Num Planets</th>\n",
              "      <th>Discovery Method</th>\n",
              "      <th>Discovery Year</th>\n",
              "      <th>Discovery Facility</th>\n",
              "      <th>Orbital Period Days</th>\n",
              "      <th>Orbit Semi-Major Axis</th>\n",
              "      <th>...</th>\n",
              "      <th>Equilibrium Temperature</th>\n",
              "      <th>Spectral Type</th>\n",
              "      <th>Stellar Effective Temperature</th>\n",
              "      <th>Stellar Radius</th>\n",
              "      <th>Stellar Mass</th>\n",
              "      <th>Stellar Metallicity</th>\n",
              "      <th>Stellar Metallicity Ratio</th>\n",
              "      <th>Stellar Surface Gravity</th>\n",
              "      <th>Distance</th>\n",
              "      <th>Gaia Magnitude</th>\n",
              "    </tr>\n",
              "  </thead>\n",
              "  <tbody>\n",
              "    <tr>\n",
              "      <th>0</th>\n",
              "      <td>1</td>\n",
              "      <td>11 Com b</td>\n",
              "      <td>11 Com</td>\n",
              "      <td>2</td>\n",
              "      <td>1</td>\n",
              "      <td>Radial Velocity</td>\n",
              "      <td>2007</td>\n",
              "      <td>Xinglong Station</td>\n",
              "      <td>326.03000</td>\n",
              "      <td>1.29</td>\n",
              "      <td>...</td>\n",
              "      <td>NaN</td>\n",
              "      <td>G8 III</td>\n",
              "      <td>4742.0</td>\n",
              "      <td>19.00</td>\n",
              "      <td>2.70</td>\n",
              "      <td>-0.35</td>\n",
              "      <td>[Fe/H]</td>\n",
              "      <td>2.31</td>\n",
              "      <td>93.1846</td>\n",
              "      <td>4.44038</td>\n",
              "    </tr>\n",
              "    <tr>\n",
              "      <th>1</th>\n",
              "      <td>2</td>\n",
              "      <td>11 UMi b</td>\n",
              "      <td>11 UMi</td>\n",
              "      <td>1</td>\n",
              "      <td>1</td>\n",
              "      <td>Radial Velocity</td>\n",
              "      <td>2009</td>\n",
              "      <td>Thueringer Landessternwarte Tautenburg</td>\n",
              "      <td>516.21997</td>\n",
              "      <td>1.53</td>\n",
              "      <td>...</td>\n",
              "      <td>NaN</td>\n",
              "      <td>NaN</td>\n",
              "      <td>4213.0</td>\n",
              "      <td>29.79</td>\n",
              "      <td>2.78</td>\n",
              "      <td>-0.02</td>\n",
              "      <td>[Fe/H]</td>\n",
              "      <td>1.93</td>\n",
              "      <td>125.3210</td>\n",
              "      <td>4.56216</td>\n",
              "    </tr>\n",
              "    <tr>\n",
              "      <th>2</th>\n",
              "      <td>3</td>\n",
              "      <td>14 And b</td>\n",
              "      <td>14 And</td>\n",
              "      <td>1</td>\n",
              "      <td>1</td>\n",
              "      <td>Radial Velocity</td>\n",
              "      <td>2008</td>\n",
              "      <td>Okayama Astrophysical Observatory</td>\n",
              "      <td>185.84000</td>\n",
              "      <td>0.83</td>\n",
              "      <td>...</td>\n",
              "      <td>NaN</td>\n",
              "      <td>K0 III</td>\n",
              "      <td>4813.0</td>\n",
              "      <td>11.00</td>\n",
              "      <td>2.20</td>\n",
              "      <td>-0.24</td>\n",
              "      <td>[Fe/H]</td>\n",
              "      <td>2.63</td>\n",
              "      <td>75.4392</td>\n",
              "      <td>4.91781</td>\n",
              "    </tr>\n",
              "    <tr>\n",
              "      <th>3</th>\n",
              "      <td>4</td>\n",
              "      <td>14 Her b</td>\n",
              "      <td>14 Her</td>\n",
              "      <td>1</td>\n",
              "      <td>2</td>\n",
              "      <td>Radial Velocity</td>\n",
              "      <td>2002</td>\n",
              "      <td>W. M. Keck Observatory</td>\n",
              "      <td>1773.40002</td>\n",
              "      <td>2.93</td>\n",
              "      <td>...</td>\n",
              "      <td>NaN</td>\n",
              "      <td>NaN</td>\n",
              "      <td>5338.0</td>\n",
              "      <td>0.93</td>\n",
              "      <td>0.90</td>\n",
              "      <td>0.41</td>\n",
              "      <td>[Fe/H]</td>\n",
              "      <td>4.45</td>\n",
              "      <td>17.9323</td>\n",
              "      <td>6.38300</td>\n",
              "    </tr>\n",
              "  </tbody>\n",
              "</table>\n",
              "<p>4 rows × 23 columns</p>\n",
              "</div>\n",
              "    <div class=\"colab-df-buttons\">\n",
              "\n",
              "  <div class=\"colab-df-container\">\n",
              "    <button class=\"colab-df-convert\" onclick=\"convertToInteractive('df-b31a1f5c-fcfc-44c3-80a1-cc8824d5dd51')\"\n",
              "            title=\"Convert this dataframe to an interactive table.\"\n",
              "            style=\"display:none;\">\n",
              "\n",
              "  <svg xmlns=\"http://www.w3.org/2000/svg\" height=\"24px\" viewBox=\"0 -960 960 960\">\n",
              "    <path d=\"M120-120v-720h720v720H120Zm60-500h600v-160H180v160Zm220 220h160v-160H400v160Zm0 220h160v-160H400v160ZM180-400h160v-160H180v160Zm440 0h160v-160H620v160ZM180-180h160v-160H180v160Zm440 0h160v-160H620v160Z\"/>\n",
              "  </svg>\n",
              "    </button>\n",
              "\n",
              "  <style>\n",
              "    .colab-df-container {\n",
              "      display:flex;\n",
              "      gap: 12px;\n",
              "    }\n",
              "\n",
              "    .colab-df-convert {\n",
              "      background-color: #E8F0FE;\n",
              "      border: none;\n",
              "      border-radius: 50%;\n",
              "      cursor: pointer;\n",
              "      display: none;\n",
              "      fill: #1967D2;\n",
              "      height: 32px;\n",
              "      padding: 0 0 0 0;\n",
              "      width: 32px;\n",
              "    }\n",
              "\n",
              "    .colab-df-convert:hover {\n",
              "      background-color: #E2EBFA;\n",
              "      box-shadow: 0px 1px 2px rgba(60, 64, 67, 0.3), 0px 1px 3px 1px rgba(60, 64, 67, 0.15);\n",
              "      fill: #174EA6;\n",
              "    }\n",
              "\n",
              "    .colab-df-buttons div {\n",
              "      margin-bottom: 4px;\n",
              "    }\n",
              "\n",
              "    [theme=dark] .colab-df-convert {\n",
              "      background-color: #3B4455;\n",
              "      fill: #D2E3FC;\n",
              "    }\n",
              "\n",
              "    [theme=dark] .colab-df-convert:hover {\n",
              "      background-color: #434B5C;\n",
              "      box-shadow: 0px 1px 3px 1px rgba(0, 0, 0, 0.15);\n",
              "      filter: drop-shadow(0px 1px 2px rgba(0, 0, 0, 0.3));\n",
              "      fill: #FFFFFF;\n",
              "    }\n",
              "  </style>\n",
              "\n",
              "    <script>\n",
              "      const buttonEl =\n",
              "        document.querySelector('#df-b31a1f5c-fcfc-44c3-80a1-cc8824d5dd51 button.colab-df-convert');\n",
              "      buttonEl.style.display =\n",
              "        google.colab.kernel.accessAllowed ? 'block' : 'none';\n",
              "\n",
              "      async function convertToInteractive(key) {\n",
              "        const element = document.querySelector('#df-b31a1f5c-fcfc-44c3-80a1-cc8824d5dd51');\n",
              "        const dataTable =\n",
              "          await google.colab.kernel.invokeFunction('convertToInteractive',\n",
              "                                                    [key], {});\n",
              "        if (!dataTable) return;\n",
              "\n",
              "        const docLinkHtml = 'Like what you see? Visit the ' +\n",
              "          '<a target=\"_blank\" href=https://colab.research.google.com/notebooks/data_table.ipynb>data table notebook</a>'\n",
              "          + ' to learn more about interactive tables.';\n",
              "        element.innerHTML = '';\n",
              "        dataTable['output_type'] = 'display_data';\n",
              "        await google.colab.output.renderOutput(dataTable, element);\n",
              "        const docLink = document.createElement('div');\n",
              "        docLink.innerHTML = docLinkHtml;\n",
              "        element.appendChild(docLink);\n",
              "      }\n",
              "    </script>\n",
              "  </div>\n",
              "\n",
              "\n",
              "<div id=\"df-51464da5-f241-44bb-9b84-e84239bcaa94\">\n",
              "  <button class=\"colab-df-quickchart\" onclick=\"quickchart('df-51464da5-f241-44bb-9b84-e84239bcaa94')\"\n",
              "            title=\"Suggest charts\"\n",
              "            style=\"display:none;\">\n",
              "\n",
              "<svg xmlns=\"http://www.w3.org/2000/svg\" height=\"24px\"viewBox=\"0 0 24 24\"\n",
              "     width=\"24px\">\n",
              "    <g>\n",
              "        <path d=\"M19 3H5c-1.1 0-2 .9-2 2v14c0 1.1.9 2 2 2h14c1.1 0 2-.9 2-2V5c0-1.1-.9-2-2-2zM9 17H7v-7h2v7zm4 0h-2V7h2v10zm4 0h-2v-4h2v4z\"/>\n",
              "    </g>\n",
              "</svg>\n",
              "  </button>\n",
              "\n",
              "<style>\n",
              "  .colab-df-quickchart {\n",
              "      --bg-color: #E8F0FE;\n",
              "      --fill-color: #1967D2;\n",
              "      --hover-bg-color: #E2EBFA;\n",
              "      --hover-fill-color: #174EA6;\n",
              "      --disabled-fill-color: #AAA;\n",
              "      --disabled-bg-color: #DDD;\n",
              "  }\n",
              "\n",
              "  [theme=dark] .colab-df-quickchart {\n",
              "      --bg-color: #3B4455;\n",
              "      --fill-color: #D2E3FC;\n",
              "      --hover-bg-color: #434B5C;\n",
              "      --hover-fill-color: #FFFFFF;\n",
              "      --disabled-bg-color: #3B4455;\n",
              "      --disabled-fill-color: #666;\n",
              "  }\n",
              "\n",
              "  .colab-df-quickchart {\n",
              "    background-color: var(--bg-color);\n",
              "    border: none;\n",
              "    border-radius: 50%;\n",
              "    cursor: pointer;\n",
              "    display: none;\n",
              "    fill: var(--fill-color);\n",
              "    height: 32px;\n",
              "    padding: 0;\n",
              "    width: 32px;\n",
              "  }\n",
              "\n",
              "  .colab-df-quickchart:hover {\n",
              "    background-color: var(--hover-bg-color);\n",
              "    box-shadow: 0 1px 2px rgba(60, 64, 67, 0.3), 0 1px 3px 1px rgba(60, 64, 67, 0.15);\n",
              "    fill: var(--button-hover-fill-color);\n",
              "  }\n",
              "\n",
              "  .colab-df-quickchart-complete:disabled,\n",
              "  .colab-df-quickchart-complete:disabled:hover {\n",
              "    background-color: var(--disabled-bg-color);\n",
              "    fill: var(--disabled-fill-color);\n",
              "    box-shadow: none;\n",
              "  }\n",
              "\n",
              "  .colab-df-spinner {\n",
              "    border: 2px solid var(--fill-color);\n",
              "    border-color: transparent;\n",
              "    border-bottom-color: var(--fill-color);\n",
              "    animation:\n",
              "      spin 1s steps(1) infinite;\n",
              "  }\n",
              "\n",
              "  @keyframes spin {\n",
              "    0% {\n",
              "      border-color: transparent;\n",
              "      border-bottom-color: var(--fill-color);\n",
              "      border-left-color: var(--fill-color);\n",
              "    }\n",
              "    20% {\n",
              "      border-color: transparent;\n",
              "      border-left-color: var(--fill-color);\n",
              "      border-top-color: var(--fill-color);\n",
              "    }\n",
              "    30% {\n",
              "      border-color: transparent;\n",
              "      border-left-color: var(--fill-color);\n",
              "      border-top-color: var(--fill-color);\n",
              "      border-right-color: var(--fill-color);\n",
              "    }\n",
              "    40% {\n",
              "      border-color: transparent;\n",
              "      border-right-color: var(--fill-color);\n",
              "      border-top-color: var(--fill-color);\n",
              "    }\n",
              "    60% {\n",
              "      border-color: transparent;\n",
              "      border-right-color: var(--fill-color);\n",
              "    }\n",
              "    80% {\n",
              "      border-color: transparent;\n",
              "      border-right-color: var(--fill-color);\n",
              "      border-bottom-color: var(--fill-color);\n",
              "    }\n",
              "    90% {\n",
              "      border-color: transparent;\n",
              "      border-bottom-color: var(--fill-color);\n",
              "    }\n",
              "  }\n",
              "</style>\n",
              "\n",
              "  <script>\n",
              "    async function quickchart(key) {\n",
              "      const quickchartButtonEl =\n",
              "        document.querySelector('#' + key + ' button');\n",
              "      quickchartButtonEl.disabled = true;  // To prevent multiple clicks.\n",
              "      quickchartButtonEl.classList.add('colab-df-spinner');\n",
              "      try {\n",
              "        const charts = await google.colab.kernel.invokeFunction(\n",
              "            'suggestCharts', [key], {});\n",
              "      } catch (error) {\n",
              "        console.error('Error during call to suggestCharts:', error);\n",
              "      }\n",
              "      quickchartButtonEl.classList.remove('colab-df-spinner');\n",
              "      quickchartButtonEl.classList.add('colab-df-quickchart-complete');\n",
              "    }\n",
              "    (() => {\n",
              "      let quickchartButtonEl =\n",
              "        document.querySelector('#df-51464da5-f241-44bb-9b84-e84239bcaa94 button');\n",
              "      quickchartButtonEl.style.display =\n",
              "        google.colab.kernel.accessAllowed ? 'block' : 'none';\n",
              "    })();\n",
              "  </script>\n",
              "</div>\n",
              "\n",
              "    </div>\n",
              "  </div>\n"
            ],
            "application/vnd.google.colaboratory.intrinsic+json": {
              "type": "dataframe",
              "variable_name": "df"
            }
          },
          "metadata": {},
          "execution_count": 4
        }
      ]
    },
    {
      "cell_type": "code",
      "source": [
        "print(df.isnull().sum())"
      ],
      "metadata": {
        "colab": {
          "base_uri": "https://localhost:8080/"
        },
        "id": "ZaH7wvC1Y-7y",
        "outputId": "42c1b4c0-9804-40c0-e908-755f3cf1c212"
      },
      "execution_count": null,
      "outputs": [
        {
          "output_type": "stream",
          "name": "stdout",
          "text": [
            "No.                                 0\n",
            "Planet Name                         0\n",
            "Planet Host                         0\n",
            "Num Stars                           0\n",
            "Num Planets                         0\n",
            "Discovery Method                    0\n",
            "Discovery Year                      0\n",
            "Discovery Facility                  0\n",
            "Orbital Period Days               162\n",
            "Orbit Semi-Major Axis            1812\n",
            "Mass                             2569\n",
            "Eccentricity                     2868\n",
            "Insolation Flux                  4205\n",
            "Equilibrium Temperature          3650\n",
            "Spectral Type                    3647\n",
            "Stellar Effective Temperature     349\n",
            "Stellar Radius                    447\n",
            "Stellar Mass                      731\n",
            "Stellar Metallicity              1371\n",
            "Stellar Metallicity Ratio        1383\n",
            "Stellar Surface Gravity           603\n",
            "Distance                          104\n",
            "Gaia Magnitude                    175\n",
            "dtype: int64\n"
          ]
        }
      ]
    },
    {
      "cell_type": "code",
      "source": [
        "print(df.head())"
      ],
      "metadata": {
        "id": "pFCNcOrLdtvI",
        "outputId": "90252802-3edd-4844-f4d4-3eb5188af362",
        "colab": {
          "base_uri": "https://localhost:8080/"
        }
      },
      "execution_count": null,
      "outputs": [
        {
          "output_type": "stream",
          "name": "stdout",
          "text": [
            "   No. Planet Name Planet Host  Num Stars  Num Planets Discovery Method  \\\n",
            "0    1    11 Com b      11 Com          2            1  Radial Velocity   \n",
            "1    2    11 UMi b      11 UMi          1            1  Radial Velocity   \n",
            "2    3    14 And b      14 And          1            1  Radial Velocity   \n",
            "3    4    14 Her b      14 Her          1            2  Radial Velocity   \n",
            "4    5  16 Cyg B b    16 Cyg B          3            1  Radial Velocity   \n",
            "\n",
            "   Discovery Year                      Discovery Facility  \\\n",
            "0            2007                        Xinglong Station   \n",
            "1            2009  Thueringer Landessternwarte Tautenburg   \n",
            "2            2008       Okayama Astrophysical Observatory   \n",
            "3            2002                  W. M. Keck Observatory   \n",
            "4            1996                  Multiple Observatories   \n",
            "\n",
            "   Orbital Period Days  Orbit Semi-Major Axis  ...  Equilibrium Temperature  \\\n",
            "0            326.03000                   1.29  ...                      NaN   \n",
            "1            516.21997                   1.53  ...                      NaN   \n",
            "2            185.84000                   0.83  ...                      NaN   \n",
            "3           1773.40002                   2.93  ...                      NaN   \n",
            "4            798.50000                   1.66  ...                      NaN   \n",
            "\n",
            "   Spectral Type  Stellar Effective Temperature  Stellar Radius Stellar Mass  \\\n",
            "0         G8 III                         4742.0           19.00         2.70   \n",
            "1            NaN                         4213.0           29.79         2.78   \n",
            "2         K0 III                         4813.0           11.00         2.20   \n",
            "3            NaN                         5338.0            0.93         0.90   \n",
            "4            NaN                         5750.0            1.13         1.08   \n",
            "\n",
            "   Stellar Metallicity  Stellar Metallicity Ratio  Stellar Surface Gravity  \\\n",
            "0                -0.35                     [Fe/H]                     2.31   \n",
            "1                -0.02                     [Fe/H]                     1.93   \n",
            "2                -0.24                     [Fe/H]                     2.63   \n",
            "3                 0.41                     [Fe/H]                     4.45   \n",
            "4                 0.06                     [Fe/H]                     4.36   \n",
            "\n",
            "   Distance Gaia Magnitude  \n",
            "0   93.1846        4.44038  \n",
            "1  125.3210        4.56216  \n",
            "2   75.4392        4.91781  \n",
            "3   17.9323        6.38300  \n",
            "4   21.1397        6.06428  \n",
            "\n",
            "[5 rows x 23 columns]\n"
          ]
        }
      ]
    },
    {
      "cell_type": "code",
      "source": [
        "# Standardize column names\n",
        "df.columns = df.columns.str.lower().str.replace(\" \", \"_\").str.strip()\n",
        "print(\"Dataset Columns:\\n\", df.columns)"
      ],
      "metadata": {
        "colab": {
          "base_uri": "https://localhost:8080/"
        },
        "id": "RsljD3gna82I",
        "outputId": "a85c396a-b350-48d7-8344-416d91ed272a"
      },
      "execution_count": null,
      "outputs": [
        {
          "output_type": "stream",
          "name": "stdout",
          "text": [
            "Dataset Columns:\n",
            " Index(['no.', 'planet_name', 'planet_host', 'num_stars', 'num_planets',\n",
            "       'discovery_method', 'discovery_year', 'discovery_facility',\n",
            "       'orbital_period_days', 'orbit_semi-major_axis', 'mass', 'eccentricity',\n",
            "       'insolation_flux', 'equilibrium_temperature', 'spectral_type',\n",
            "       'stellar_effective_temperature', 'stellar_radius', 'stellar_mass',\n",
            "       'stellar_metallicity', 'stellar_metallicity_ratio',\n",
            "       'stellar_surface_gravity', 'distance', 'gaia_magnitude'],\n",
            "      dtype='object')\n"
          ]
        }
      ]
    },
    {
      "cell_type": "code",
      "source": [
        "# Handle missing values\n",
        "df['equilibrium_temperature'] = df['equilibrium_temperature'].fillna(df['equilibrium_temperature'].median())\n",
        "df['mass'] = df['mass'].fillna(df['mass'].median())  # Handling missing mass values\n",
        "df['insolation_flux'] = df['insolation_flux'].fillna(df['insolation_flux'].median())  # Handling missing insolation flux values\n",
        "\n",
        "# Remove rows where 'orbital_period_days' has null values\n",
        "df_cleaned = df[df['orbital_period_days'].notna()]\n",
        "print(df.isnull().sum())"
      ],
      "metadata": {
        "colab": {
          "base_uri": "https://localhost:8080/"
        },
        "id": "5kf3Sh6E0wlR",
        "outputId": "198d3274-c3f8-40f1-fbe5-6d56dc2c00a5"
      },
      "execution_count": null,
      "outputs": [
        {
          "output_type": "stream",
          "name": "stdout",
          "text": [
            "no.                                 0\n",
            "planet_name                         0\n",
            "planet_host                         0\n",
            "num_stars                           0\n",
            "num_planets                         0\n",
            "discovery_method                    0\n",
            "discovery_year                      0\n",
            "discovery_facility                  0\n",
            "orbital_period_days               162\n",
            "orbit_semi-major_axis            1812\n",
            "mass                                0\n",
            "eccentricity                     2868\n",
            "insolation_flux                     0\n",
            "equilibrium_temperature             0\n",
            "spectral_type                    3647\n",
            "stellar_effective_temperature     349\n",
            "stellar_radius                    447\n",
            "stellar_mass                      731\n",
            "stellar_metallicity              1371\n",
            "stellar_metallicity_ratio        1383\n",
            "stellar_surface_gravity           603\n",
            "distance                          104\n",
            "gaia_magnitude                    175\n",
            "dtype: int64\n"
          ]
        }
      ]
    },
    {
      "cell_type": "code",
      "source": [],
      "metadata": {
        "colab": {
          "base_uri": "https://localhost:8080/"
        },
        "id": "Zd7X9qTpXEN4",
        "outputId": "7c04c1ce-3a4b-43e5-ce2c-573bdbaab488"
      },
      "execution_count": null,
      "outputs": [
        {
          "output_type": "stream",
          "name": "stdout",
          "text": [
            "Dataset Columns:\n",
            " Index(['no.', 'planet_name', 'planet_host', 'num_stars', 'num_planets',\n",
            "       'discovery_method', 'discovery_year', 'discovery_facility',\n",
            "       'orbital_period_days', 'orbit_semi-major_axis', 'mass', 'eccentricity',\n",
            "       'insolation_flux', 'equilibrium_temperature', 'spectral_type',\n",
            "       'stellar_effective_temperature', 'stellar_radius', 'stellar_mass',\n",
            "       'stellar_metallicity', 'stellar_metallicity_ratio',\n",
            "       'stellar_surface_gravity', 'distance', 'gaia_magnitude'],\n",
            "      dtype='object')\n"
          ]
        }
      ]
    },
    {
      "cell_type": "code",
      "source": [
        "# Select relevant features (Modify as needed based on dataset content)\n",
        "selected_features = ['orbital_period_days', 'mass', 'equilibrium_temperature', 'insolation_flux']\n",
        "label_column = 'discovery_method'  # Modify based on dataset"
      ],
      "metadata": {
        "id": "gQy7lGwUXMi5"
      },
      "execution_count": null,
      "outputs": []
    },
    {
      "cell_type": "code",
      "source": [
        "print(\"mass null : \",df['mass'].isna().sum())\n",
        "print(\"orbital_period_days null : \", df['orbital_period_days'].isna().sum())"
      ],
      "metadata": {
        "colab": {
          "base_uri": "https://localhost:8080/"
        },
        "id": "Piyq5-O-YOSa",
        "outputId": "e4de8b6b-2882-41e7-a039-5c52443fd044"
      },
      "execution_count": null,
      "outputs": [
        {
          "output_type": "stream",
          "name": "stdout",
          "text": [
            "mass null :  0\n",
            "orbital_period_days null :  162\n"
          ]
        }
      ]
    },
    {
      "cell_type": "code",
      "source": [
        "# Ensure selected features exist\n",
        "missing_features = [col for col in selected_features + [label_column] if col not in df.columns]\n",
        "if missing_features:\n",
        "    print(\"Missing columns:\", missing_features)\n",
        "else:\n",
        "    print(\"All selected features exist.\")"
      ],
      "metadata": {
        "colab": {
          "base_uri": "https://localhost:8080/"
        },
        "id": "bRa5VrxIXPCB",
        "outputId": "a34eebaf-20ff-4992-bc76-85d0d0c46ef2"
      },
      "execution_count": null,
      "outputs": [
        {
          "output_type": "stream",
          "name": "stdout",
          "text": [
            "All selected features exist.\n"
          ]
        }
      ]
    },
    {
      "cell_type": "code",
      "source": [
        "# Encoding categorical labels\n",
        "le = LabelEncoder()\n",
        "df[label_column] = le.fit_transform(df[label_column])"
      ],
      "metadata": {
        "id": "Sp3ehbN3XdzO",
        "colab": {
          "base_uri": "https://localhost:8080/"
        },
        "outputId": "0d2af04b-1bb2-40ea-a9ac-ec684797c31d"
      },
      "execution_count": null,
      "outputs": [
        {
          "output_type": "stream",
          "name": "stderr",
          "text": [
            "<ipython-input-75-97151bee70a3>:3: SettingWithCopyWarning: \n",
            "A value is trying to be set on a copy of a slice from a DataFrame.\n",
            "Try using .loc[row_indexer,col_indexer] = value instead\n",
            "\n",
            "See the caveats in the documentation: https://pandas.pydata.org/pandas-docs/stable/user_guide/indexing.html#returning-a-view-versus-a-copy\n",
            "  df[label_column] = le.fit_transform(df[label_column])\n"
          ]
        }
      ]
    },
    {
      "cell_type": "code",
      "source": [
        "# Define features (X) and target (y)\n",
        "X = df[selected_features]\n",
        "y = df[label_column]"
      ],
      "metadata": {
        "id": "y0OZTL8_XgGg"
      },
      "execution_count": null,
      "outputs": []
    },
    {
      "cell_type": "code",
      "source": [
        "# Train-test split\n",
        "X_train, X_test, y_train, y_test = train_test_split(X, y, test_size=0.2, random_state=42)\n",
        "\n",
        "# Standardizing data\n",
        "scaler = StandardScaler()\n",
        "X_train = scaler.fit_transform(X_train)\n",
        "X_test = scaler.transform(X_test)"
      ],
      "metadata": {
        "id": "hZkYRtg3XlKd"
      },
      "execution_count": null,
      "outputs": []
    },
    {
      "cell_type": "code",
      "source": [
        "# Random Forest Classifier\n",
        "rf_model = RandomForestClassifier(n_estimators=100, random_state=42)\n",
        "rf_model.fit(X_train, y_train)\n",
        "y_pred_rf = rf_model.predict(X_test)\n",
        "print(\"Random Forest Accuracy:\", accuracy_score(y_test, y_pred_rf))\n",
        "print(classification_report(y_test, y_pred_rf))"
      ],
      "metadata": {
        "colab": {
          "base_uri": "https://localhost:8080/"
        },
        "id": "iEELO8MUXpIf",
        "outputId": "ebe66205-aabf-45cb-dfc6-c3e31c53c769"
      },
      "execution_count": null,
      "outputs": [
        {
          "output_type": "stream",
          "name": "stdout",
          "text": [
            "Random Forest Accuracy: 0.898360655737705\n",
            "                           precision    recall  f1-score   support\n",
            "\n",
            "Eclipse Timing Variations       0.00      0.00      0.00         4\n",
            "                  Imaging       0.75      0.75      0.75        12\n",
            "             Microlensing       0.88      0.83      0.86        18\n",
            "          Radial Velocity       0.76      0.80      0.78       191\n",
            "                  Transit       0.94      0.94      0.94       686\n",
            "Transit Timing Variations       0.00      0.00      0.00         4\n",
            "\n",
            "                 accuracy                           0.90       915\n",
            "                macro avg       0.56      0.55      0.55       915\n",
            "             weighted avg       0.89      0.90      0.90       915\n",
            "\n"
          ]
        },
        {
          "output_type": "stream",
          "name": "stderr",
          "text": [
            "/usr/local/lib/python3.11/dist-packages/sklearn/metrics/_classification.py:1565: UndefinedMetricWarning: Precision is ill-defined and being set to 0.0 in labels with no predicted samples. Use `zero_division` parameter to control this behavior.\n",
            "  _warn_prf(average, modifier, f\"{metric.capitalize()} is\", len(result))\n",
            "/usr/local/lib/python3.11/dist-packages/sklearn/metrics/_classification.py:1565: UndefinedMetricWarning: Precision is ill-defined and being set to 0.0 in labels with no predicted samples. Use `zero_division` parameter to control this behavior.\n",
            "  _warn_prf(average, modifier, f\"{metric.capitalize()} is\", len(result))\n",
            "/usr/local/lib/python3.11/dist-packages/sklearn/metrics/_classification.py:1565: UndefinedMetricWarning: Precision is ill-defined and being set to 0.0 in labels with no predicted samples. Use `zero_division` parameter to control this behavior.\n",
            "  _warn_prf(average, modifier, f\"{metric.capitalize()} is\", len(result))\n"
          ]
        }
      ]
    },
    {
      "cell_type": "code",
      "source": [
        "# Logistic Regression Classifier\n",
        "lr_model = LogisticRegression(max_iter=200, random_state=42)\n",
        "lr_model.fit(X_train, y_train)\n",
        "y_pred_lr = lr_model.predict(X_test)\n",
        "print(\"Logistic Regression Accuracy:\", accuracy_score(y_test, y_pred_lr))\n",
        "print(classification_report(y_test, y_pred_lr))"
      ],
      "metadata": {
        "colab": {
          "base_uri": "https://localhost:8080/"
        },
        "id": "QBd9053rUVz9",
        "outputId": "a26be296-38d6-4b2a-cf67-86fd7690b59d"
      },
      "execution_count": null,
      "outputs": [
        {
          "output_type": "stream",
          "name": "stdout",
          "text": [
            "Logistic Regression Accuracy: 0.8421052631578947\n",
            "              precision    recall  f1-score   support\n",
            "\n",
            "           0       0.80      0.67      0.73         6\n",
            "           1       0.86      0.92      0.89        13\n",
            "\n",
            "    accuracy                           0.84        19\n",
            "   macro avg       0.83      0.79      0.81        19\n",
            "weighted avg       0.84      0.84      0.84        19\n",
            "\n"
          ]
        }
      ]
    },
    {
      "cell_type": "code",
      "source": [
        "# XGBoost Classifier\n",
        "xgb_model = XGBClassifier(use_label_encoder=False, eval_metric='mlogloss')\n",
        "xgb_model.fit(X_train, y_train)\n",
        "y_pred_xgb = xgb_model.predict(X_test)\n",
        "print(\"XGBoost Accuracy:\", accuracy_score(y_test, y_pred_xgb))\n",
        "print(classification_report(y_test, y_pred_xgb))"
      ],
      "metadata": {
        "colab": {
          "base_uri": "https://localhost:8080/"
        },
        "id": "KNpkFKRZXs3a",
        "outputId": "5e10151e-6b67-43af-b40c-2a91cbf6fde2"
      },
      "execution_count": null,
      "outputs": [
        {
          "output_type": "stream",
          "name": "stdout",
          "text": [
            "XGBoost Accuracy: 0.7894736842105263\n",
            "              precision    recall  f1-score   support\n",
            "\n",
            "           0       0.75      0.50      0.60         6\n",
            "           1       0.80      0.92      0.86        13\n",
            "\n",
            "    accuracy                           0.79        19\n",
            "   macro avg       0.78      0.71      0.73        19\n",
            "weighted avg       0.78      0.79      0.78        19\n",
            "\n"
          ]
        },
        {
          "output_type": "stream",
          "name": "stderr",
          "text": [
            "/usr/local/lib/python3.11/dist-packages/xgboost/core.py:158: UserWarning: [03:48:59] WARNING: /workspace/src/learner.cc:740: \n",
            "Parameters: { \"use_label_encoder\" } are not used.\n",
            "\n",
            "  warnings.warn(smsg, UserWarning)\n"
          ]
        }
      ]
    },
    {
      "cell_type": "code",
      "source": [
        "# Neural Network Model\n",
        "nn_model = Sequential([\n",
        "    Dense(64, activation='relu', input_shape=(X_train.shape[1],)),\n",
        "    Dropout(0.2),\n",
        "    Dense(32, activation='relu'),\n",
        "    Dropout(0.2),\n",
        "    Dense(len(np.unique(y)), activation='softmax')\n",
        "])\n",
        "\n",
        "nn_model.compile(optimizer='adam', loss='sparse_categorical_crossentropy', metrics=['accuracy'])\n",
        "nn_model.fit(X_train, y_train, epochs=50, batch_size=16, validation_data=(X_test, y_test))\n",
        "\n",
        "# Neural Network Evaluation\n",
        "y_pred_nn = np.argmax(nn_model.predict(X_test), axis=1)\n",
        "print(\"Neural Network Accuracy:\", accuracy_score(y_test, y_pred_nn))\n",
        "print(classification_report(y_test, y_pred_nn))"
      ],
      "metadata": {
        "colab": {
          "base_uri": "https://localhost:8080/"
        },
        "id": "4spCsCfUXy_3",
        "outputId": "b7c32c69-e74d-42d7-d838-398e733ee36c"
      },
      "execution_count": null,
      "outputs": [
        {
          "output_type": "stream",
          "name": "stdout",
          "text": [
            "Epoch 1/50\n"
          ]
        },
        {
          "output_type": "stream",
          "name": "stderr",
          "text": [
            "/usr/local/lib/python3.11/dist-packages/keras/src/layers/core/dense.py:87: UserWarning: Do not pass an `input_shape`/`input_dim` argument to a layer. When using Sequential models, prefer using an `Input(shape)` object as the first layer in the model instead.\n",
            "  super().__init__(activity_regularizer=activity_regularizer, **kwargs)\n"
          ]
        },
        {
          "output_type": "stream",
          "name": "stdout",
          "text": [
            "\u001b[1m5/5\u001b[0m \u001b[32m━━━━━━━━━━━━━━━━━━━━\u001b[0m\u001b[37m\u001b[0m \u001b[1m2s\u001b[0m 66ms/step - accuracy: 0.7251 - loss: 0.6606 - val_accuracy: 0.7778 - val_loss: 0.7766\n",
            "Epoch 2/50\n",
            "\u001b[1m5/5\u001b[0m \u001b[32m━━━━━━━━━━━━━━━━━━━━\u001b[0m\u001b[37m\u001b[0m \u001b[1m0s\u001b[0m 19ms/step - accuracy: 0.8244 - loss: 0.6492 - val_accuracy: 0.7778 - val_loss: 0.6799\n",
            "Epoch 3/50\n",
            "\u001b[1m5/5\u001b[0m \u001b[32m━━━━━━━━━━━━━━━━━━━━\u001b[0m\u001b[37m\u001b[0m \u001b[1m0s\u001b[0m 22ms/step - accuracy: 0.8403 - loss: 0.5884 - val_accuracy: 0.7778 - val_loss: 0.6131\n",
            "Epoch 4/50\n",
            "\u001b[1m5/5\u001b[0m \u001b[32m━━━━━━━━━━━━━━━━━━━━\u001b[0m\u001b[37m\u001b[0m \u001b[1m0s\u001b[0m 19ms/step - accuracy: 0.8368 - loss: 0.5636 - val_accuracy: 0.7778 - val_loss: 0.5367\n",
            "Epoch 5/50\n",
            "\u001b[1m5/5\u001b[0m \u001b[32m━━━━━━━━━━━━━━━━━━━━\u001b[0m\u001b[37m\u001b[0m \u001b[1m0s\u001b[0m 28ms/step - accuracy: 0.8521 - loss: 0.5184 - val_accuracy: 0.7778 - val_loss: 0.4778\n",
            "Epoch 6/50\n",
            "\u001b[1m5/5\u001b[0m \u001b[32m━━━━━━━━━━━━━━━━━━━━\u001b[0m\u001b[37m\u001b[0m \u001b[1m0s\u001b[0m 20ms/step - accuracy: 0.8573 - loss: 0.4949 - val_accuracy: 0.7778 - val_loss: 0.4258\n",
            "Epoch 7/50\n",
            "\u001b[1m5/5\u001b[0m \u001b[32m━━━━━━━━━━━━━━━━━━━━\u001b[0m\u001b[37m\u001b[0m \u001b[1m0s\u001b[0m 20ms/step - accuracy: 0.8536 - loss: 0.4519 - val_accuracy: 0.8889 - val_loss: 0.3853\n",
            "Epoch 8/50\n",
            "\u001b[1m5/5\u001b[0m \u001b[32m━━━━━━━━━━━━━━━━━━━━\u001b[0m\u001b[37m\u001b[0m \u001b[1m0s\u001b[0m 23ms/step - accuracy: 0.8215 - loss: 0.4433 - val_accuracy: 0.8889 - val_loss: 0.3541\n",
            "Epoch 9/50\n",
            "\u001b[1m5/5\u001b[0m \u001b[32m━━━━━━━━━━━━━━━━━━━━\u001b[0m\u001b[37m\u001b[0m \u001b[1m0s\u001b[0m 20ms/step - accuracy: 0.8958 - loss: 0.3972 - val_accuracy: 0.8889 - val_loss: 0.3318\n",
            "Epoch 10/50\n",
            "\u001b[1m5/5\u001b[0m \u001b[32m━━━━━━━━━━━━━━━━━━━━\u001b[0m\u001b[37m\u001b[0m \u001b[1m0s\u001b[0m 19ms/step - accuracy: 0.8290 - loss: 0.4282 - val_accuracy: 0.8889 - val_loss: 0.3123\n",
            "Epoch 11/50\n",
            "\u001b[1m5/5\u001b[0m \u001b[32m━━━━━━━━━━━━━━━━━━━━\u001b[0m\u001b[37m\u001b[0m \u001b[1m0s\u001b[0m 22ms/step - accuracy: 0.9039 - loss: 0.3829 - val_accuracy: 0.8333 - val_loss: 0.3000\n",
            "Epoch 12/50\n",
            "\u001b[1m5/5\u001b[0m \u001b[32m━━━━━━━━━━━━━━━━━━━━\u001b[0m\u001b[37m\u001b[0m \u001b[1m0s\u001b[0m 19ms/step - accuracy: 0.8715 - loss: 0.3438 - val_accuracy: 0.8333 - val_loss: 0.2922\n",
            "Epoch 13/50\n",
            "\u001b[1m5/5\u001b[0m \u001b[32m━━━━━━━━━━━━━━━━━━━━\u001b[0m\u001b[37m\u001b[0m \u001b[1m0s\u001b[0m 19ms/step - accuracy: 0.8993 - loss: 0.3075 - val_accuracy: 0.8333 - val_loss: 0.2881\n",
            "Epoch 14/50\n",
            "\u001b[1m5/5\u001b[0m \u001b[32m━━━━━━━━━━━━━━━━━━━━\u001b[0m\u001b[37m\u001b[0m \u001b[1m0s\u001b[0m 29ms/step - accuracy: 0.8602 - loss: 0.3370 - val_accuracy: 0.8333 - val_loss: 0.2868\n",
            "Epoch 15/50\n",
            "\u001b[1m5/5\u001b[0m \u001b[32m━━━━━━━━━━━━━━━━━━━━\u001b[0m\u001b[37m\u001b[0m \u001b[1m0s\u001b[0m 22ms/step - accuracy: 0.8900 - loss: 0.3244 - val_accuracy: 0.8333 - val_loss: 0.2885\n",
            "Epoch 16/50\n",
            "\u001b[1m5/5\u001b[0m \u001b[32m━━━━━━━━━━━━━━━━━━━━\u001b[0m\u001b[37m\u001b[0m \u001b[1m0s\u001b[0m 21ms/step - accuracy: 0.8883 - loss: 0.3503 - val_accuracy: 0.8333 - val_loss: 0.2918\n",
            "Epoch 17/50\n",
            "\u001b[1m5/5\u001b[0m \u001b[32m━━━━━━━━━━━━━━━━━━━━\u001b[0m\u001b[37m\u001b[0m \u001b[1m0s\u001b[0m 19ms/step - accuracy: 0.9057 - loss: 0.2774 - val_accuracy: 0.8333 - val_loss: 0.2948\n",
            "Epoch 18/50\n",
            "\u001b[1m5/5\u001b[0m \u001b[32m━━━━━━━━━━━━━━━━━━━━\u001b[0m\u001b[37m\u001b[0m \u001b[1m0s\u001b[0m 20ms/step - accuracy: 0.8490 - loss: 0.3471 - val_accuracy: 0.8333 - val_loss: 0.2964\n",
            "Epoch 19/50\n",
            "\u001b[1m5/5\u001b[0m \u001b[32m━━━━━━━━━━━━━━━━━━━━\u001b[0m\u001b[37m\u001b[0m \u001b[1m0s\u001b[0m 22ms/step - accuracy: 0.8605 - loss: 0.3643 - val_accuracy: 0.8333 - val_loss: 0.3001\n",
            "Epoch 20/50\n",
            "\u001b[1m5/5\u001b[0m \u001b[32m━━━━━━━━━━━━━━━━━━━━\u001b[0m\u001b[37m\u001b[0m \u001b[1m0s\u001b[0m 20ms/step - accuracy: 0.9100 - loss: 0.2626 - val_accuracy: 0.8333 - val_loss: 0.3042\n",
            "Epoch 21/50\n",
            "\u001b[1m5/5\u001b[0m \u001b[32m━━━━━━━━━━━━━━━━━━━━\u001b[0m\u001b[37m\u001b[0m \u001b[1m0s\u001b[0m 19ms/step - accuracy: 0.8753 - loss: 0.3332 - val_accuracy: 0.8333 - val_loss: 0.3069\n",
            "Epoch 22/50\n",
            "\u001b[1m5/5\u001b[0m \u001b[32m━━━━━━━━━━━━━━━━━━━━\u001b[0m\u001b[37m\u001b[0m \u001b[1m0s\u001b[0m 19ms/step - accuracy: 0.8996 - loss: 0.2998 - val_accuracy: 0.8333 - val_loss: 0.3095\n",
            "Epoch 23/50\n",
            "\u001b[1m5/5\u001b[0m \u001b[32m━━━━━━━━━━━━━━━━━━━━\u001b[0m\u001b[37m\u001b[0m \u001b[1m0s\u001b[0m 23ms/step - accuracy: 0.8666 - loss: 0.3247 - val_accuracy: 0.8333 - val_loss: 0.3126\n",
            "Epoch 24/50\n",
            "\u001b[1m5/5\u001b[0m \u001b[32m━━━━━━━━━━━━━━━━━━━━\u001b[0m\u001b[37m\u001b[0m \u001b[1m0s\u001b[0m 21ms/step - accuracy: 0.8866 - loss: 0.3110 - val_accuracy: 0.8333 - val_loss: 0.3150\n",
            "Epoch 25/50\n",
            "\u001b[1m5/5\u001b[0m \u001b[32m━━━━━━━━━━━━━━━━━━━━\u001b[0m\u001b[37m\u001b[0m \u001b[1m0s\u001b[0m 19ms/step - accuracy: 0.9083 - loss: 0.2636 - val_accuracy: 0.8333 - val_loss: 0.3177\n",
            "Epoch 26/50\n",
            "\u001b[1m5/5\u001b[0m \u001b[32m━━━━━━━━━━━━━━━━━━━━\u001b[0m\u001b[37m\u001b[0m \u001b[1m0s\u001b[0m 28ms/step - accuracy: 0.9013 - loss: 0.2739 - val_accuracy: 0.8333 - val_loss: 0.3196\n",
            "Epoch 27/50\n",
            "\u001b[1m5/5\u001b[0m \u001b[32m━━━━━━━━━━━━━━━━━━━━\u001b[0m\u001b[37m\u001b[0m \u001b[1m0s\u001b[0m 20ms/step - accuracy: 0.8640 - loss: 0.3393 - val_accuracy: 0.8333 - val_loss: 0.3214\n",
            "Epoch 28/50\n",
            "\u001b[1m5/5\u001b[0m \u001b[32m━━━━━━━━━━━━━━━━━━━━\u001b[0m\u001b[37m\u001b[0m \u001b[1m0s\u001b[0m 29ms/step - accuracy: 0.9126 - loss: 0.2537 - val_accuracy: 0.8333 - val_loss: 0.3240\n",
            "Epoch 29/50\n",
            "\u001b[1m5/5\u001b[0m \u001b[32m━━━━━━━━━━━━━━━━━━━━\u001b[0m\u001b[37m\u001b[0m \u001b[1m0s\u001b[0m 21ms/step - accuracy: 0.8692 - loss: 0.3365 - val_accuracy: 0.8333 - val_loss: 0.3267\n",
            "Epoch 30/50\n",
            "\u001b[1m5/5\u001b[0m \u001b[32m━━━━━━━━━━━━━━━━━━━━\u001b[0m\u001b[37m\u001b[0m \u001b[1m0s\u001b[0m 19ms/step - accuracy: 0.9097 - loss: 0.2485 - val_accuracy: 0.8333 - val_loss: 0.3303\n",
            "Epoch 31/50\n",
            "\u001b[1m5/5\u001b[0m \u001b[32m━━━━━━━━━━━━━━━━━━━━\u001b[0m\u001b[37m\u001b[0m \u001b[1m0s\u001b[0m 19ms/step - accuracy: 0.9117 - loss: 0.2420 - val_accuracy: 0.8333 - val_loss: 0.3334\n",
            "Epoch 32/50\n",
            "\u001b[1m5/5\u001b[0m \u001b[32m━━━━━━━━━━━━━━━━━━━━\u001b[0m\u001b[37m\u001b[0m \u001b[1m0s\u001b[0m 18ms/step - accuracy: 0.8932 - loss: 0.2509 - val_accuracy: 0.8333 - val_loss: 0.3371\n",
            "Epoch 33/50\n",
            "\u001b[1m5/5\u001b[0m \u001b[32m━━━━━━━━━━━━━━━━━━━━\u001b[0m\u001b[37m\u001b[0m \u001b[1m0s\u001b[0m 19ms/step - accuracy: 0.8672 - loss: 0.2880 - val_accuracy: 0.8333 - val_loss: 0.3398\n",
            "Epoch 34/50\n",
            "\u001b[1m5/5\u001b[0m \u001b[32m━━━━━━━━━━━━━━━━━━━━\u001b[0m\u001b[37m\u001b[0m \u001b[1m0s\u001b[0m 20ms/step - accuracy: 0.8883 - loss: 0.2866 - val_accuracy: 0.8333 - val_loss: 0.3422\n",
            "Epoch 35/50\n",
            "\u001b[1m5/5\u001b[0m \u001b[32m━━━━━━━━━━━━━━━━━━━━\u001b[0m\u001b[37m\u001b[0m \u001b[1m0s\u001b[0m 20ms/step - accuracy: 0.8955 - loss: 0.2614 - val_accuracy: 0.8333 - val_loss: 0.3455\n",
            "Epoch 36/50\n",
            "\u001b[1m5/5\u001b[0m \u001b[32m━━━━━━━━━━━━━━━━━━━━\u001b[0m\u001b[37m\u001b[0m \u001b[1m0s\u001b[0m 31ms/step - accuracy: 0.9317 - loss: 0.1924 - val_accuracy: 0.8889 - val_loss: 0.3489\n",
            "Epoch 37/50\n",
            "\u001b[1m5/5\u001b[0m \u001b[32m━━━━━━━━━━━━━━━━━━━━\u001b[0m\u001b[37m\u001b[0m \u001b[1m0s\u001b[0m 19ms/step - accuracy: 0.9106 - loss: 0.2603 - val_accuracy: 0.8889 - val_loss: 0.3514\n",
            "Epoch 38/50\n",
            "\u001b[1m5/5\u001b[0m \u001b[32m━━━━━━━━━━━━━━━━━━━━\u001b[0m\u001b[37m\u001b[0m \u001b[1m0s\u001b[0m 19ms/step - accuracy: 0.8828 - loss: 0.2852 - val_accuracy: 0.8333 - val_loss: 0.3507\n",
            "Epoch 39/50\n",
            "\u001b[1m5/5\u001b[0m \u001b[32m━━━━━━━━━━━━━━━━━━━━\u001b[0m\u001b[37m\u001b[0m \u001b[1m0s\u001b[0m 29ms/step - accuracy: 0.8996 - loss: 0.2618 - val_accuracy: 0.8333 - val_loss: 0.3526\n",
            "Epoch 40/50\n",
            "\u001b[1m5/5\u001b[0m \u001b[32m━━━━━━━━━━━━━━━━━━━━\u001b[0m\u001b[37m\u001b[0m \u001b[1m0s\u001b[0m 22ms/step - accuracy: 0.8663 - loss: 0.2990 - val_accuracy: 0.8889 - val_loss: 0.3543\n",
            "Epoch 41/50\n",
            "\u001b[1m5/5\u001b[0m \u001b[32m━━━━━━━━━━━━━━━━━━━━\u001b[0m\u001b[37m\u001b[0m \u001b[1m0s\u001b[0m 20ms/step - accuracy: 0.8866 - loss: 0.2986 - val_accuracy: 0.8889 - val_loss: 0.3568\n",
            "Epoch 42/50\n",
            "\u001b[1m5/5\u001b[0m \u001b[32m━━━━━━━━━━━━━━━━━━━━\u001b[0m\u001b[37m\u001b[0m \u001b[1m0s\u001b[0m 28ms/step - accuracy: 0.8941 - loss: 0.2599 - val_accuracy: 0.8889 - val_loss: 0.3584\n",
            "Epoch 43/50\n",
            "\u001b[1m5/5\u001b[0m \u001b[32m━━━━━━━━━━━━━━━━━━━━\u001b[0m\u001b[37m\u001b[0m \u001b[1m0s\u001b[0m 21ms/step - accuracy: 0.8750 - loss: 0.3264 - val_accuracy: 0.8889 - val_loss: 0.3594\n",
            "Epoch 44/50\n",
            "\u001b[1m5/5\u001b[0m \u001b[32m━━━━━━━━━━━━━━━━━━━━\u001b[0m\u001b[37m\u001b[0m \u001b[1m0s\u001b[0m 22ms/step - accuracy: 0.8712 - loss: 0.3053 - val_accuracy: 0.8889 - val_loss: 0.3578\n",
            "Epoch 45/50\n",
            "\u001b[1m5/5\u001b[0m \u001b[32m━━━━━━━━━━━━━━━━━━━━\u001b[0m\u001b[37m\u001b[0m \u001b[1m0s\u001b[0m 19ms/step - accuracy: 0.8698 - loss: 0.2742 - val_accuracy: 0.8333 - val_loss: 0.3579\n",
            "Epoch 46/50\n",
            "\u001b[1m5/5\u001b[0m \u001b[32m━━━━━━━━━━━━━━━━━━━━\u001b[0m\u001b[37m\u001b[0m \u001b[1m0s\u001b[0m 19ms/step - accuracy: 0.8848 - loss: 0.2778 - val_accuracy: 0.8333 - val_loss: 0.3598\n",
            "Epoch 47/50\n",
            "\u001b[1m5/5\u001b[0m \u001b[32m━━━━━━━━━━━━━━━━━━━━\u001b[0m\u001b[37m\u001b[0m \u001b[1m0s\u001b[0m 19ms/step - accuracy: 0.8683 - loss: 0.3145 - val_accuracy: 0.8333 - val_loss: 0.3627\n",
            "Epoch 48/50\n",
            "\u001b[1m5/5\u001b[0m \u001b[32m━━━━━━━━━━━━━━━━━━━━\u001b[0m\u001b[37m\u001b[0m \u001b[1m0s\u001b[0m 22ms/step - accuracy: 0.8539 - loss: 0.3056 - val_accuracy: 0.8889 - val_loss: 0.3661\n",
            "Epoch 49/50\n",
            "\u001b[1m5/5\u001b[0m \u001b[32m━━━━━━━━━━━━━━━━━━━━\u001b[0m\u001b[37m\u001b[0m \u001b[1m0s\u001b[0m 21ms/step - accuracy: 0.8631 - loss: 0.3411 - val_accuracy: 0.8889 - val_loss: 0.3702\n",
            "Epoch 50/50\n",
            "\u001b[1m5/5\u001b[0m \u001b[32m━━━━━━━━━━━━━━━━━━━━\u001b[0m\u001b[37m\u001b[0m \u001b[1m0s\u001b[0m 29ms/step - accuracy: 0.9074 - loss: 0.2484 - val_accuracy: 0.8889 - val_loss: 0.3737\n",
            "\u001b[1m1/1\u001b[0m \u001b[32m━━━━━━━━━━━━━━━━━━━━\u001b[0m\u001b[37m\u001b[0m \u001b[1m0s\u001b[0m 112ms/step\n",
            "Neural Network Accuracy: 0.8888888888888888\n",
            "              precision    recall  f1-score   support\n",
            "\n",
            "           0       0.75      0.75      0.75         4\n",
            "           1       0.93      0.93      0.93        14\n",
            "\n",
            "    accuracy                           0.89        18\n",
            "   macro avg       0.84      0.84      0.84        18\n",
            "weighted avg       0.89      0.89      0.89        18\n",
            "\n"
          ]
        }
      ]
    },
    {
      "cell_type": "code",
      "source": [
        "# Confusion Matrix\n",
        "plt.figure(figsize=(8,6))\n",
        "sns.heatmap(confusion_matrix(y_test, y_pred_rf), annot=True, fmt='d', cmap='Blues')\n",
        "plt.title('Confusion Matrix - Random Forest')\n",
        "plt.xlabel('Predicted')\n",
        "plt.ylabel('Actual')\n",
        "plt.show()\n"
      ],
      "metadata": {
        "colab": {
          "base_uri": "https://localhost:8080/",
          "height": 564
        },
        "id": "7WgoofLTW4Zc",
        "outputId": "b1d6905a-65e9-4400-de1f-9042f6b255b1"
      },
      "execution_count": null,
      "outputs": [
        {
          "output_type": "display_data",
          "data": {
            "text/plain": [
              "<Figure size 800x600 with 2 Axes>"
            ],
            "image/png": "[encoded data removed]"
          },
          "metadata": {}
        }
      ]
    }
  ]
}